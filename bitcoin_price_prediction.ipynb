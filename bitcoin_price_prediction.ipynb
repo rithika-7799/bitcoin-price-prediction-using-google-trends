{
  "cells": [
    {
      "cell_type": "markdown",
      "metadata": {
        "id": "55i0Bi6BUA1g"
      },
      "source": [
        "# Bitcoin price prediction"
      ]
    },
    {
      "cell_type": "markdown",
      "metadata": {
        "id": "DELEOHqnULHs"
      },
      "source": [
        "### Parsing binary to csv"
      ]
    },
    {
      "cell_type": "markdown",
      "source": [
        "Raw bitcoin blocks are downloaded from Bitcoin Core client and stored on the local system. \n",
        "These raw binary blocks are parsed into text format using an online Python library. \n",
        "https://github.com/alecalve/python-bitcoin-blockchain-parser\n",
        "\n"
      ],
      "metadata": {
        "id": "p9jD29Hqa80V"
      }
    },
    {
      "cell_type": "code",
      "execution_count": null,
      "metadata": {
        "id": "20ikcDHxcOEl"
      },
      "outputs": [],
      "source": [
        "!pip install blockchain-parser"
      ]
    },
    {
      "cell_type": "code",
      "execution_count": null,
      "metadata": {
        "id": "5N7TJ8bRzOeE"
      },
      "outputs": [],
      "source": [
        "blockaddr = '/content/drive/MyDrive/Bitcoin/blocks/'\n"
      ]
    },
    {
      "cell_type": "markdown",
      "source": [
        "Install PySpark on Colab"
      ],
      "metadata": {
        "id": "x7WF2GbHboT1"
      }
    },
    {
      "cell_type": "code",
      "execution_count": null,
      "metadata": {
        "id": "lh5NCoc8fsSO"
      },
      "outputs": [],
      "source": [
        "!apt-get install openjdk-8-jdk-headless -qq > /dev/null\n",
        "!wget -q https://dlcdn.apache.org/spark/spark-3.2.1/spark-3.2.1-bin-hadoop3.2.tgz\n",
        "!tar xf spark-3.2.1-bin-hadoop3.2.tgz\n",
        "!pip install -q findspark"
      ]
    },
    {
      "cell_type": "code",
      "execution_count": null,
      "metadata": {
        "colab": {
          "base_uri": "https://localhost:8080/"
        },
        "id": "Sr4it4V-hp0s",
        "outputId": "151cd4b0-2d71-4c15-8826-1ee099777fe2"
      },
      "outputs": [
        {
          "output_type": "stream",
          "name": "stdout",
          "text": [
            "env: SPARK_HOME=/content/spark-3.2.1-bin-hadoop3.2/\n"
          ]
        }
      ],
      "source": [
        "import os\n",
        "os.environ[\"JAVA_HOME\"] = \"/usr/lib/jvm/java-8-openjdk-amd64\"\n",
        "os.environ[\"SPARK_HOME\"] = \"/content/spark-3.2.1-bin-hadoop3.2/bin\"\n",
        "%env SPARK_HOME=/content/spark-3.2.1-bin-hadoop3.2/"
      ]
    },
    {
      "cell_type": "code",
      "execution_count": null,
      "metadata": {
        "id": "8g2EgsVwhsy-"
      },
      "outputs": [],
      "source": [
        "import findspark\n",
        "findspark.init()\n",
        "from pyspark.sql import SparkSession\n",
        "spark = SparkSession.builder.master(\"local[*]\").config(\"spark.executor.memory\", \"1g\").config(\"spark.driver.memory\", \"3g\").getOrCreate()\n"
      ]
    },
    {
      "cell_type": "markdown",
      "source": [
        "Create a Spark implementation of the parsing library"
      ],
      "metadata": {
        "id": "i4HTvpAeb-Fq"
      }
    },
    {
      "cell_type": "code",
      "execution_count": null,
      "metadata": {
        "id": "U-hPleXbjhUC"
      },
      "outputs": [],
      "source": [
        "\n",
        "import os\n",
        "import mmap\n",
        "\n",
        "import struct\n",
        "import pickle\n",
        "import stat\n",
        "import plyvel\n",
        "import logging\n",
        "import os\n",
        "from blockchain_parser.blockchain import Blockchain\n",
        "from blockchain_parser.block import Block\n",
        "\n",
        "# Constant separating blocks in the .blk files\n",
        "BITCOIN_CONSTANT = b\"\\xf9\\xbe\\xb4\\xd9\"\n",
        "\n",
        "def get_blocks(blockfile):\n",
        "    \"\"\"\n",
        "    Given the name of a .blk file, for every block contained in the file,\n",
        "    yields its raw hexadecimal value\n",
        "    \"\"\"\n",
        "    with open(blockfile, \"rb\") as f:\n",
        "        if os.name == 'nt':\n",
        "            size = os.path.getsize(f.name)\n",
        "            raw_data = mmap.mmap(f.fileno(), size, access=mmap.ACCESS_READ)\n",
        "        else:\n",
        "            # Unix-only call, will not work on Windows, see python doc.\n",
        "            raw_data = mmap.mmap(f.fileno(), 0, prot=mmap.PROT_READ)\n",
        "        length = len(raw_data)\n",
        "        offset = 0\n",
        "        block_count = 0\n",
        "        while offset < (length - 4):\n",
        "            if raw_data[offset:offset+4] == BITCOIN_CONSTANT:\n",
        "                offset += 4\n",
        "                size = struct.unpack(\"<I\", raw_data[offset:offset+4])[0]\n",
        "                offset += 4 + size\n",
        "                block_count += 1\n",
        "                yield raw_data[offset-size:offset]\n",
        "            else:\n",
        "                offset += 1\n",
        "        raw_data.close()\n",
        "\n",
        "\n",
        "def get_timestamps(blk_file):\n",
        "  all_data = []\n",
        "  for raw_block in get_blocks(blk_file):\n",
        "    block = Block(raw_block, os.path.split(blk_file)[1])\n",
        "    timestamp = block.header.timestamp\n",
        "    all_data.append(timestamp)\n",
        "  return all_data\n",
        "\n",
        "\n",
        "\n",
        "def parse(blk_file):\n",
        "\n",
        "  logging.debug('inside parse')\n",
        "    \n",
        "  all_data = []\n",
        "  for raw_block in get_blocks(blk_file):\n",
        "    block = Block(raw_block, os.path.split(blk_file)[1])\n",
        "    timestamp = block.header.timestamp\n",
        "    n_transactions = block.n_transactions\n",
        "    blk_size = block.size \n",
        "\n",
        "    for tx in block.transactions:\n",
        "        \n",
        "        for no, output in enumerate(tx.outputs):\n",
        "          data = []\n",
        "          if len(output.addresses)==1:\n",
        "            addr = output.addresses[0].address\n",
        "          else:\n",
        "            addr = None\n",
        "          data.append(timestamp)\n",
        "          data.append(output.value)\n",
        "          data.append(addr)\n",
        "          data.append(n_transactions)\n",
        "          data.append(blk_size)\n",
        "        all_data.append(tuple(data))\n",
        "  print(len(all_data))\n",
        "  return all_data\n"
      ]
    },
    {
      "cell_type": "code",
      "execution_count": null,
      "metadata": {
        "colab": {
          "base_uri": "https://localhost:8080/"
        },
        "id": "5Ol4Xr9OisgM",
        "outputId": "16ef4bea-7a45-4e9c-ede1-909278acfc10"
      },
      "outputs": [
        {
          "name": "stdout",
          "output_type": "stream",
          "text": [
            "['/content/drive/MyDrive/Bitcoin/blocks/blk02957.dat', '/content/drive/MyDrive/Bitcoin/blocks/blk02958.dat', '/content/drive/MyDrive/Bitcoin/blocks/blk02959.dat', '/content/drive/MyDrive/Bitcoin/blocks/blk02960.dat', '/content/drive/MyDrive/Bitcoin/blocks/blk02961.dat', '/content/drive/MyDrive/Bitcoin/blocks/blk02962.dat', '/content/drive/MyDrive/Bitcoin/blocks/blk02963.dat', '/content/drive/MyDrive/Bitcoin/blocks/blk02964.dat', '/content/drive/MyDrive/Bitcoin/blocks/blk02965.dat', '/content/drive/MyDrive/Bitcoin/blocks/blk02966.dat', '/content/drive/MyDrive/Bitcoin/blocks/blk02967.dat', '/content/drive/MyDrive/Bitcoin/blocks/blk02968.dat', '/content/drive/MyDrive/Bitcoin/blocks/blk02969.dat', '/content/drive/MyDrive/Bitcoin/blocks/blk02970.dat', '/content/drive/MyDrive/Bitcoin/blocks/blk02971.dat', '/content/drive/MyDrive/Bitcoin/blocks/blk02972.dat', '/content/drive/MyDrive/Bitcoin/blocks/blk02973.dat', '/content/drive/MyDrive/Bitcoin/blocks/blk02974.dat', '/content/drive/MyDrive/Bitcoin/blocks/blk02975.dat', '/content/drive/MyDrive/Bitcoin/blocks/blk02976.dat', '/content/drive/MyDrive/Bitcoin/blocks/blk02977.dat', '/content/drive/MyDrive/Bitcoin/blocks/blk02978.dat', '/content/drive/MyDrive/Bitcoin/blocks/blk02979.dat', '/content/drive/MyDrive/Bitcoin/blocks/blk02980.dat', '/content/drive/MyDrive/Bitcoin/blocks/blk02981.dat']\n"
          ]
        }
      ],
      "source": [
        "from pyspark import SparkConf, SparkContext\n",
        "import time\n",
        "import logging\n",
        "\n",
        "if __name__ == \"__main__\":\n",
        "    start_time = time.time()\n",
        "\n",
        "    output='blocks-csv'\n",
        "    sc=spark.sparkContext\n",
        "    path = blockaddr\n",
        "    files = os.listdir(path)\n",
        "    files = [f for f in files if f.startswith(\"blk\") and f.endswith(\".dat\")]\n",
        "    files = map(lambda x: os.path.join(path, x), files)\n",
        "    files=sorted(files)\n",
        "    print(files)\n",
        "\n",
        "    rawfiles = sc.parallelize(files)\n",
        "    blocks = rawfiles.map(lambda filename: parse(filename)).flatMap(lambda x: x).cache()\n",
        "\n",
        "    header = [\"timestamp\",\"value\",\"address\",\"num_transactions\",\"block_size\"]\n",
        "    df = blocks.toDF(header)\n",
        "    df.write.csv(output)\n"
      ]
    },
    {
      "cell_type": "code",
      "execution_count": null,
      "metadata": {
        "id": "a7O9GWViUV0H"
      },
      "outputs": [],
      "source": []
    },
    {
      "cell_type": "markdown",
      "metadata": {
        "id": "DNjcU-LCUTvr"
      },
      "source": [
        "## Read csv data"
      ]
    },
    {
      "cell_type": "markdown",
      "source": [
        "Read the csv files created by the parsing library and load the data and set the dataypes of each column"
      ],
      "metadata": {
        "id": "B4vDEG-GcTYn"
      }
    },
    {
      "cell_type": "code",
      "execution_count": null,
      "metadata": {
        "colab": {
          "base_uri": "https://localhost:8080/"
        },
        "id": "C24IGTDwdmvq",
        "outputId": "cc4492fa-8196-43e9-94b1-56a7e12765b2"
      },
      "outputs": [
        {
          "output_type": "stream",
          "name": "stdout",
          "text": [
            "+-------------------+--------+--------------------+----------------+----------+\n",
            "|          timestamp|   value|             address|num_transactions|block_size|\n",
            "+-------------------+--------+--------------------+----------------+----------+\n",
            "|2022-03-10 21:00:00|49853600|bc1qzyy25k99r09a5...|            3053|   1502508|\n",
            "|2022-03-10 21:00:00|       0|                null|            3053|   1502508|\n",
            "+-------------------+--------+--------------------+----------------+----------+\n",
            "only showing top 2 rows\n",
            "\n"
          ]
        },
        {
          "output_type": "execute_result",
          "data": {
            "text/plain": [
              "5048803"
            ]
          },
          "metadata": {},
          "execution_count": 4
        }
      ],
      "source": [
        "# BLOCK DATA\n",
        "from pyspark.sql.functions import *\n",
        "from pyspark.sql.types import IntegerType,BooleanType,DateType,TimestampType\n",
        "\n",
        "\n",
        "df_block = spark.read.options(header=False).csv(\"/content/drive/MyDrive/blocks-csv/blocks\")\n",
        "df_block=df_block.toDF(\"timestamp\",\"value\",\"address\",\"num_transactions\",\"block_size\")\n",
        "df_block=df_block.withColumn(\"timestamp\",df_block.timestamp.cast(\"timestamp\"))\n",
        "df_block=df_block.withColumn(\"value\",df_block.value.cast(\"long\"))\n",
        "df_block=df_block.withColumn(\"num_transactions\",df_block.num_transactions.cast(\"long\"))\n",
        "df_block=df_block.withColumn(\"block_size\",df_block.block_size.cast(\"long\"))\n",
        "\n",
        "df_block=df_block.withColumn(\"timestamp\",date_trunc('hour',df_block.timestamp))\n",
        "\n",
        "df_block=df_block.sort(df_block.timestamp.asc()) # the start date is 10th Mar (2022-03-10)\n",
        "df_block.show(2)\n",
        "df_block.count()\n",
        "\n"
      ]
    },
    {
      "cell_type": "code",
      "execution_count": null,
      "metadata": {
        "colab": {
          "base_uri": "https://localhost:8080/"
        },
        "id": "9eVwqTwHKROS",
        "outputId": "6c00976f-5900-4645-ca5f-555261230a6a"
      },
      "outputs": [
        {
          "output_type": "stream",
          "name": "stdout",
          "text": [
            "root\n",
            " |-- timestamp: timestamp (nullable = true)\n",
            " |-- value: long (nullable = true)\n",
            " |-- address: string (nullable = true)\n",
            " |-- num_transactions: long (nullable = true)\n",
            " |-- block_size: long (nullable = true)\n",
            "\n"
          ]
        }
      ],
      "source": [
        "df_block.printSchema()"
      ]
    },
    {
      "cell_type": "code",
      "execution_count": null,
      "metadata": {
        "id": "U1POyTguUjJO"
      },
      "outputs": [],
      "source": [
        "df_block=df_block.sort(df_block.timestamp.desc()) # the start date is 10th Mar (2022-03-10)"
      ]
    },
    {
      "cell_type": "markdown",
      "source": [
        "Read the historical bitcoin prices from the csv file holding hourly price data <br> Add lag variables of 1 hour and 2 hours for timeseries modelling"
      ],
      "metadata": {
        "id": "Z1AxgM93ciL_"
      }
    },
    {
      "cell_type": "code",
      "execution_count": null,
      "metadata": {
        "id": "FMB18rmrNFFs"
      },
      "outputs": [],
      "source": [
        "import pyspark.sql.functions as F\n",
        "from pyspark.sql.window import Window"
      ]
    },
    {
      "cell_type": "code",
      "execution_count": null,
      "metadata": {
        "colab": {
          "base_uri": "https://localhost:8080/"
        },
        "id": "UZPTVuFky4Gs",
        "outputId": "28725971-f73b-4ebc-b307-ca0cb05f7bc0"
      },
      "outputs": [
        {
          "output_type": "stream",
          "name": "stdout",
          "text": [
            "+-------------------+-------+-------+-------+-------+-------------+----------+-------+-------+-------+-------+------------+------------+-------+-------+-------+-------+------------+------------+----------+\n",
            "|               date|   open|   high|    low|  close|   Volume BTC|Volume USD| open_1| high_1|  low_1|close_1|volume_BTC_1|volume_USD_1| open_2| high_2|  low_2|close_2|volume_BTC_2|volume_USD_2|NEXT_CLOSE|\n",
            "+-------------------+-------+-------+-------+-------+-------------+----------+-------+-------+-------+-------+------------+------------+-------+-------+-------+-------+------------+------------+----------+\n",
            "|2018-05-15 08:00:00| 8739.0|8750.27|8660.53|8728.49|   7986062.84|    917.79|8740.99| 8766.0|8721.11| 8739.0|  2390398.89|      273.58|8733.86|8796.68|8707.28|8740.99|  4906603.14|      559.93|   8708.32|\n",
            "|2018-05-15 09:00:00|8728.49| 8754.4|8701.35|8708.32|   1593991.98|    182.62| 8739.0|8750.27|8660.53|8728.49|  7986062.84|      917.79|8740.99| 8766.0|8721.11| 8739.0|  2390398.89|      273.58|    8795.9|\n",
            "|2018-05-15 10:00:00|8708.32| 8865.0|8695.11| 8795.9|1.110127374E7|   1260.69|8728.49| 8754.4|8701.35|8708.32|  1593991.98|      182.62| 8739.0|8750.27|8660.53|8728.49|  7986062.84|      917.79|    8760.0|\n",
            "+-------------------+-------+-------+-------+-------+-------------+----------+-------+-------+-------+-------+------------+------------+-------+-------+-------+-------+------------+------------+----------+\n",
            "only showing top 3 rows\n",
            "\n",
            "root\n",
            " |-- date: timestamp (nullable = true)\n",
            " |-- open: double (nullable = true)\n",
            " |-- high: double (nullable = true)\n",
            " |-- low: double (nullable = true)\n",
            " |-- close: double (nullable = true)\n",
            " |-- Volume BTC: double (nullable = true)\n",
            " |-- Volume USD: double (nullable = true)\n",
            " |-- open_1: double (nullable = true)\n",
            " |-- high_1: double (nullable = true)\n",
            " |-- low_1: double (nullable = true)\n",
            " |-- close_1: double (nullable = true)\n",
            " |-- volume_BTC_1: double (nullable = true)\n",
            " |-- volume_USD_1: double (nullable = true)\n",
            " |-- open_2: double (nullable = true)\n",
            " |-- high_2: double (nullable = true)\n",
            " |-- low_2: double (nullable = true)\n",
            " |-- close_2: double (nullable = true)\n",
            " |-- volume_BTC_2: double (nullable = true)\n",
            " |-- volume_USD_2: double (nullable = true)\n",
            " |-- NEXT_CLOSE: double (nullable = true)\n",
            "\n"
          ]
        }
      ],
      "source": [
        "# HOURLY HISTORICAL DATA\n",
        "# 13 mar 2022 - 01 apr 2022\n",
        " \n",
        "dfh = spark.read.csv(\"/content/drive/MyDrive/Bitstamp_BTCUSD_1h.csv\",header=True,inferSchema=True)\n",
        "dfh=dfh.withColumn(\"date\",dfh.date.cast(TimestampType()))\n",
        "\n",
        "# remove columns unix, synbol\n",
        "dfh=dfh.drop(\"unix\",\"symbol\")\n",
        "dfh=dfh.sort(dfh.date.asc())\n",
        "\n",
        "dfh = dfh.withColumn(\"open_1\", F.lag(\"open\", offset=1).over(Window.orderBy(\"date\")))\n",
        "dfh = dfh.withColumn(\"high_1\", F.lag(\"high\", offset=1).over(Window.orderBy(\"date\")))\n",
        "dfh = dfh.withColumn(\"low_1\", F.lag(\"low\", offset=1).over(Window.orderBy(\"date\")))\n",
        "dfh = dfh.withColumn(\"close_1\", F.lag(\"close\", offset=1).over(Window.orderBy(\"date\")))\n",
        "dfh = dfh.withColumn(\"volume_BTC_1\", F.lag(\"Volume BTC\", offset=1).over(Window.orderBy(\"date\")))\n",
        "dfh = dfh.withColumn(\"volume_USD_1\", F.lag(\"Volume USD\", offset=1).over(Window.orderBy(\"date\")))\n",
        "\n",
        "dfh = dfh.withColumn(\"open_2\", F.lag(\"open\", offset=2).over(Window.orderBy(\"date\")))\n",
        "dfh = dfh.withColumn(\"high_2\", F.lag(\"high\", offset=2).over(Window.orderBy(\"date\")))\n",
        "dfh = dfh.withColumn(\"low_2\", F.lag(\"low\", offset=2).over(Window.orderBy(\"date\")))\n",
        "dfh = dfh.withColumn(\"close_2\", F.lag(\"close\", offset=2).over(Window.orderBy(\"date\")))\n",
        "dfh = dfh.withColumn(\"volume_BTC_2\", F.lag(\"Volume BTC\", offset=2).over(Window.orderBy(\"date\")))\n",
        "dfh = dfh.withColumn(\"volume_USD_2\", F.lag(\"Volume USD\", offset=2).over(Window.orderBy(\"date\")))\n",
        "\n",
        "dfh = dfh.withColumn(\"NEXT_CLOSE\", F.lag(\"close\", offset=-1).over(Window.orderBy(\"date\")))\n",
        "\n",
        "\n",
        "# sort \n",
        "dfh = dfh.dropna()\n",
        "dfh.show(3)\n",
        "dfh.count()\n",
        "dfh.printSchema()"
      ]
    },
    {
      "cell_type": "markdown",
      "source": [
        "Join the hourly historical prices with blockchain data"
      ],
      "metadata": {
        "id": "6DyX3XzrdHP-"
      }
    },
    {
      "cell_type": "code",
      "execution_count": null,
      "metadata": {
        "id": "fxZEsX-Zy4EH"
      },
      "outputs": [],
      "source": [
        "# JOIN between block data and historical data\n",
        "dfj = dfh.join(df_block,dfh.date==df_block.timestamp,'left')\n",
        "dfj = dfj.filter(\"timestamp IS NOT NULL\")\n"
      ]
    },
    {
      "cell_type": "markdown",
      "source": [
        "Get hourly data for Google trends searches"
      ],
      "metadata": {
        "id": "LMDv0Eg8dMDu"
      }
    },
    {
      "cell_type": "code",
      "execution_count": null,
      "metadata": {
        "id": "VzkGmHJ7YUMe"
      },
      "outputs": [],
      "source": [
        "# get trends data\n",
        "!pip install pytrends"
      ]
    },
    {
      "cell_type": "code",
      "execution_count": null,
      "metadata": {
        "id": "V99LDg8scJNk"
      },
      "outputs": [],
      "source": [
        "# trends data from 2022-03-01 to 2022-04-05\n",
        "import pytrends\n",
        "from pytrends.request import TrendReq\n",
        "\n",
        "pytrends = TrendReq(hl='en-US', tz=360)\n",
        "kw_list = [\"bitcoin\"]\n",
        "trends = pytrends.get_historical_interest(kw_list, year_start=2022, month_start=3, day_start=1, hour_start=0, year_end=2022, month_end=4, day_end=5, hour_end=0, cat=0, geo='', gprop='', sleep=0)"
      ]
    },
    {
      "cell_type": "code",
      "execution_count": null,
      "metadata": {
        "colab": {
          "base_uri": "https://localhost:8080/",
          "height": 223
        },
        "id": "jTrUYYt4cd7a",
        "outputId": "816e46bc-2bdc-4680-b50e-b36ae4adbf6b"
      },
      "outputs": [
        {
          "output_type": "stream",
          "name": "stdout",
          "text": [
            "<class 'pandas.core.frame.DataFrame'>\n"
          ]
        },
        {
          "output_type": "execute_result",
          "data": {
            "text/plain": [
              "                datet  searches\n",
              "0 2022-03-01 00:00:00        93\n",
              "1 2022-03-01 01:00:00        84\n",
              "2 2022-03-01 02:00:00        79\n",
              "3 2022-03-01 03:00:00        72\n",
              "4 2022-03-01 04:00:00        75"
            ],
            "text/html": [
              "\n",
              "  <div id=\"df-302b28fc-16fc-4fe3-bb6b-98f1ce68c86d\">\n",
              "    <div class=\"colab-df-container\">\n",
              "      <div>\n",
              "<style scoped>\n",
              "    .dataframe tbody tr th:only-of-type {\n",
              "        vertical-align: middle;\n",
              "    }\n",
              "\n",
              "    .dataframe tbody tr th {\n",
              "        vertical-align: top;\n",
              "    }\n",
              "\n",
              "    .dataframe thead th {\n",
              "        text-align: right;\n",
              "    }\n",
              "</style>\n",
              "<table border=\"1\" class=\"dataframe\">\n",
              "  <thead>\n",
              "    <tr style=\"text-align: right;\">\n",
              "      <th></th>\n",
              "      <th>datet</th>\n",
              "      <th>searches</th>\n",
              "    </tr>\n",
              "  </thead>\n",
              "  <tbody>\n",
              "    <tr>\n",
              "      <th>0</th>\n",
              "      <td>2022-03-01 00:00:00</td>\n",
              "      <td>93</td>\n",
              "    </tr>\n",
              "    <tr>\n",
              "      <th>1</th>\n",
              "      <td>2022-03-01 01:00:00</td>\n",
              "      <td>84</td>\n",
              "    </tr>\n",
              "    <tr>\n",
              "      <th>2</th>\n",
              "      <td>2022-03-01 02:00:00</td>\n",
              "      <td>79</td>\n",
              "    </tr>\n",
              "    <tr>\n",
              "      <th>3</th>\n",
              "      <td>2022-03-01 03:00:00</td>\n",
              "      <td>72</td>\n",
              "    </tr>\n",
              "    <tr>\n",
              "      <th>4</th>\n",
              "      <td>2022-03-01 04:00:00</td>\n",
              "      <td>75</td>\n",
              "    </tr>\n",
              "  </tbody>\n",
              "</table>\n",
              "</div>\n",
              "      <button class=\"colab-df-convert\" onclick=\"convertToInteractive('df-302b28fc-16fc-4fe3-bb6b-98f1ce68c86d')\"\n",
              "              title=\"Convert this dataframe to an interactive table.\"\n",
              "              style=\"display:none;\">\n",
              "        \n",
              "  <svg xmlns=\"http://www.w3.org/2000/svg\" height=\"24px\"viewBox=\"0 0 24 24\"\n",
              "       width=\"24px\">\n",
              "    <path d=\"M0 0h24v24H0V0z\" fill=\"none\"/>\n",
              "    <path d=\"M18.56 5.44l.94 2.06.94-2.06 2.06-.94-2.06-.94-.94-2.06-.94 2.06-2.06.94zm-11 1L8.5 8.5l.94-2.06 2.06-.94-2.06-.94L8.5 2.5l-.94 2.06-2.06.94zm10 10l.94 2.06.94-2.06 2.06-.94-2.06-.94-.94-2.06-.94 2.06-2.06.94z\"/><path d=\"M17.41 7.96l-1.37-1.37c-.4-.4-.92-.59-1.43-.59-.52 0-1.04.2-1.43.59L10.3 9.45l-7.72 7.72c-.78.78-.78 2.05 0 2.83L4 21.41c.39.39.9.59 1.41.59.51 0 1.02-.2 1.41-.59l7.78-7.78 2.81-2.81c.8-.78.8-2.07 0-2.86zM5.41 20L4 18.59l7.72-7.72 1.47 1.35L5.41 20z\"/>\n",
              "  </svg>\n",
              "      </button>\n",
              "      \n",
              "  <style>\n",
              "    .colab-df-container {\n",
              "      display:flex;\n",
              "      flex-wrap:wrap;\n",
              "      gap: 12px;\n",
              "    }\n",
              "\n",
              "    .colab-df-convert {\n",
              "      background-color: #E8F0FE;\n",
              "      border: none;\n",
              "      border-radius: 50%;\n",
              "      cursor: pointer;\n",
              "      display: none;\n",
              "      fill: #1967D2;\n",
              "      height: 32px;\n",
              "      padding: 0 0 0 0;\n",
              "      width: 32px;\n",
              "    }\n",
              "\n",
              "    .colab-df-convert:hover {\n",
              "      background-color: #E2EBFA;\n",
              "      box-shadow: 0px 1px 2px rgba(60, 64, 67, 0.3), 0px 1px 3px 1px rgba(60, 64, 67, 0.15);\n",
              "      fill: #174EA6;\n",
              "    }\n",
              "\n",
              "    [theme=dark] .colab-df-convert {\n",
              "      background-color: #3B4455;\n",
              "      fill: #D2E3FC;\n",
              "    }\n",
              "\n",
              "    [theme=dark] .colab-df-convert:hover {\n",
              "      background-color: #434B5C;\n",
              "      box-shadow: 0px 1px 3px 1px rgba(0, 0, 0, 0.15);\n",
              "      filter: drop-shadow(0px 1px 2px rgba(0, 0, 0, 0.3));\n",
              "      fill: #FFFFFF;\n",
              "    }\n",
              "  </style>\n",
              "\n",
              "      <script>\n",
              "        const buttonEl =\n",
              "          document.querySelector('#df-302b28fc-16fc-4fe3-bb6b-98f1ce68c86d button.colab-df-convert');\n",
              "        buttonEl.style.display =\n",
              "          google.colab.kernel.accessAllowed ? 'block' : 'none';\n",
              "\n",
              "        async function convertToInteractive(key) {\n",
              "          const element = document.querySelector('#df-302b28fc-16fc-4fe3-bb6b-98f1ce68c86d');\n",
              "          const dataTable =\n",
              "            await google.colab.kernel.invokeFunction('convertToInteractive',\n",
              "                                                     [key], {});\n",
              "          if (!dataTable) return;\n",
              "\n",
              "          const docLinkHtml = 'Like what you see? Visit the ' +\n",
              "            '<a target=\"_blank\" href=https://colab.research.google.com/notebooks/data_table.ipynb>data table notebook</a>'\n",
              "            + ' to learn more about interactive tables.';\n",
              "          element.innerHTML = '';\n",
              "          dataTable['output_type'] = 'display_data';\n",
              "          await google.colab.output.renderOutput(dataTable, element);\n",
              "          const docLink = document.createElement('div');\n",
              "          docLink.innerHTML = docLinkHtml;\n",
              "          element.appendChild(docLink);\n",
              "        }\n",
              "      </script>\n",
              "    </div>\n",
              "  </div>\n",
              "  "
            ]
          },
          "metadata": {},
          "execution_count": 13
        }
      ],
      "source": [
        "type(trends)\n",
        "trends = trends.reset_index()\n",
        "trends = trends.iloc[: , :-1]\n",
        "print(type(trends))\n",
        "trends=trends.rename(columns={\"date\":\"datet\",\"bitcoin\":\"searches\"})\n",
        "trends.head()"
      ]
    },
    {
      "cell_type": "code",
      "execution_count": null,
      "metadata": {
        "colab": {
          "base_uri": "https://localhost:8080/"
        },
        "id": "KI61GZuwc6MC",
        "outputId": "d56ba191-81c1-4772-866b-61e047a19799"
      },
      "outputs": [
        {
          "output_type": "stream",
          "name": "stdout",
          "text": [
            "+-------------------+--------+\n",
            "|              datet|searches|\n",
            "+-------------------+--------+\n",
            "|2022-03-01 00:00:00|      93|\n",
            "|2022-03-01 01:00:00|      84|\n",
            "+-------------------+--------+\n",
            "only showing top 2 rows\n",
            "\n",
            "root\n",
            " |-- datet: timestamp (nullable = true)\n",
            " |-- searches: long (nullable = true)\n",
            "\n"
          ]
        }
      ],
      "source": [
        "df_trends=spark.createDataFrame(trends)\n",
        "df_trends.show(2)\n",
        "df_trends.printSchema()"
      ]
    },
    {
      "cell_type": "code",
      "execution_count": null,
      "metadata": {
        "id": "qUBku6LQaSwZ"
      },
      "outputs": [],
      "source": [
        "# JOIN trends and prev df using datetime\n",
        "\n",
        "df = dfj.join(df_trends,dfj.date == df_trends.datet, 'left')\n",
        "df = df.drop(*('date','datet'))\n",
        "\n",
        "# check na\n",
        "df.filter(df.address.isNull()).count()\n",
        "\n",
        "#drop rows where address, num_tr, block_size, searches is null - 18210\n",
        "df=df.dropna(subset=[\"address\",\"num_transactions\",\"block_size\",\"searches\"])"
      ]
    },
    {
      "cell_type": "code",
      "execution_count": null,
      "metadata": {
        "id": "xHiLQdaaNcsC",
        "colab": {
          "base_uri": "https://localhost:8080/"
        },
        "outputId": "9eab9ffb-8409-4f19-bad7-b9da7dbc5213"
      },
      "outputs": [
        {
          "output_type": "stream",
          "name": "stdout",
          "text": [
            "+--------+--------+--------+--------+-----------+-----------+-------+--------+--------+--------+------------+------------+--------+--------+--------+--------+------------+------------+----------+-------------------+--------+--------------------+----------------+----------+--------+\n",
            "|    open|    high|     low|   close| Volume BTC| Volume USD| open_1|  high_1|   low_1| close_1|volume_BTC_1|volume_USD_1|  open_2|  high_2|   low_2| close_2|volume_BTC_2|volume_USD_2|NEXT_CLOSE|          timestamp|   value|             address|num_transactions|block_size|searches|\n",
            "+--------+--------+--------+--------+-----------+-----------+-------+--------+--------+--------+------------+------------+--------+--------+--------+--------+------------+------------+----------+-------------------+--------+--------------------+----------------+----------+--------+\n",
            "|38680.05|38840.36|38661.94|38742.11|21.67994572|839926.8419|38859.3|38863.47|38556.27|38700.69| 27.40677344| 1060661.043|39009.68|39061.84|38863.55|38883.69| 25.24957449| 981796.6271|  37730.26|2022-03-13 21:00:00| 1936678|bc1qr9h0vc55tdnev...|            2699|   1480505|      73|\n",
            "|38680.05|38840.36|38661.94|38742.11|21.67994572|839926.8419|38859.3|38863.47|38556.27|38700.69| 27.40677344| 1060661.043|39009.68|39061.84|38863.55|38883.69| 25.24957449| 981796.6271|  37730.26|2022-03-13 21:00:00|12895224|bc1qa64s6ulpj66df...|            2699|   1480505|      73|\n",
            "+--------+--------+--------+--------+-----------+-----------+-------+--------+--------+--------+------------+------------+--------+--------+--------+--------+------------+------------+----------+-------------------+--------+--------------------+----------------+----------+--------+\n",
            "only showing top 2 rows\n",
            "\n"
          ]
        }
      ],
      "source": [
        "# delete directory from local cola\n",
        "#!rm -rf combined.csv\n",
        "df.show(2)"
      ]
    },
    {
      "cell_type": "code",
      "execution_count": null,
      "metadata": {
        "id": "25e2uFEAFKNh"
      },
      "outputs": [],
      "source": [
        "df.write.csv(\"combined-new\") # write data combined from all three sources into a CSV file\n"
      ]
    },
    {
      "cell_type": "markdown",
      "source": [
        "Read the combined CSV file and set the columns of dataframe to appropriate datatypes "
      ],
      "metadata": {
        "id": "DTSVmYM6dj2-"
      }
    },
    {
      "cell_type": "code",
      "execution_count": null,
      "metadata": {
        "id": "oTEl8oVXJN-Z",
        "colab": {
          "base_uri": "https://localhost:8080/"
        },
        "outputId": "c935187d-3704-4244-b264-519c64db17a2"
      },
      "outputs": [
        {
          "output_type": "stream",
          "name": "stdout",
          "text": [
            "root\n",
            " |-- open: double (nullable = true)\n",
            " |-- high: double (nullable = true)\n",
            " |-- low: double (nullable = true)\n",
            " |-- close: double (nullable = true)\n",
            " |-- volume_BTC: double (nullable = true)\n",
            " |-- volume_USD: double (nullable = true)\n",
            " |-- open_1: double (nullable = true)\n",
            " |-- high_1: double (nullable = true)\n",
            " |-- low_1: double (nullable = true)\n",
            " |-- close_1: double (nullable = true)\n",
            " |-- volume_BTC_1: double (nullable = true)\n",
            " |-- volume_USD_1: double (nullable = true)\n",
            " |-- open_2: double (nullable = true)\n",
            " |-- high_2: double (nullable = true)\n",
            " |-- low_2: double (nullable = true)\n",
            " |-- close_2: double (nullable = true)\n",
            " |-- volume_BTC_2: double (nullable = true)\n",
            " |-- volume_USD_2: double (nullable = true)\n",
            " |-- NEXT_CLOSE: double (nullable = true)\n",
            " |-- timestamp: timestamp (nullable = true)\n",
            " |-- value: long (nullable = true)\n",
            " |-- address: string (nullable = true)\n",
            " |-- num_transactions: long (nullable = true)\n",
            " |-- block_size: long (nullable = true)\n",
            " |-- searches: integer (nullable = true)\n",
            "\n"
          ]
        }
      ],
      "source": [
        "\n",
        "df_all = spark.read.options(header=False).csv(\"/content/combined-new\")\n",
        "\n",
        "df_all=df_all.toDF(\"open\",\"high\",\"low\",\"close\",\"volume_BTC\",\"volume_USD\",\"open_1\",\"high_1\",\"low_1\",\"close_1\",\"volume_BTC_1\",\"volume_USD_1\",\"open_2\",\"high_2\",\"low_2\",\"close_2\",\"volume_BTC_2\",\"volume_USD_2\",\"NEXT_CLOSE\",\"timestamp\",\"value\",\"address\",\"num_transactions\",\"block_size\",\"searches\")\n",
        "df_all=df_all.withColumn(\"timestamp\",df_all.timestamp.cast(\"timestamp\"))\n",
        "\n",
        "df_all=df_all.withColumn(\"NEXT_CLOSE\",df_all.open.cast(\"double\"))\n",
        "\n",
        "df_all=df_all.withColumn(\"open\",df_all.open.cast(\"double\"))\n",
        "df_all=df_all.withColumn(\"open_1\",df_all.open.cast(\"double\"))\n",
        "df_all=df_all.withColumn(\"open_2\",df_all.open.cast(\"double\"))\n",
        "\n",
        "df_all=df_all.withColumn(\"high\",df_all.high.cast(\"double\"))\n",
        "df_all=df_all.withColumn(\"high_1\",df_all.high.cast(\"double\"))\n",
        "df_all=df_all.withColumn(\"high_2\",df_all.high.cast(\"double\"))\n",
        "\n",
        "df_all=df_all.withColumn(\"low\",df_all.low.cast(\"double\"))\n",
        "df_all=df_all.withColumn(\"low_1\",df_all.low.cast(\"double\"))\n",
        "df_all=df_all.withColumn(\"low_2\",df_all.low.cast(\"double\"))\n",
        "\n",
        "df_all=df_all.withColumn(\"close\",df_all.close.cast(\"double\"))\n",
        "df_all=df_all.withColumn(\"close_1\",df_all.close.cast(\"double\"))\n",
        "df_all=df_all.withColumn(\"close_2\",df_all.close.cast(\"double\"))\n",
        "\n",
        "df_all=df_all.withColumn(\"volume_BTC_1\",df_all.volume_BTC.cast(\"double\"))\n",
        "df_all=df_all.withColumn(\"volume_BTC\",df_all.volume_BTC.cast(\"double\"))\n",
        "df_all=df_all.withColumn(\"volume_BTC_2\",df_all.volume_BTC.cast(\"double\"))\n",
        "\n",
        "df_all=df_all.withColumn(\"volume_USD_1\",df_all.volume_USD.cast(\"double\"))\n",
        "df_all=df_all.withColumn(\"volume_USD_2\",df_all.volume_USD.cast(\"double\"))\n",
        "df_all=df_all.withColumn(\"volume_USD\",df_all.volume_USD.cast(\"double\"))\n",
        "\n",
        "df_all=df_all.withColumn(\"value\",df_all.value.cast(\"long\"))\n",
        "df_all=df_all.withColumn(\"num_transactions\",df_all.num_transactions.cast(\"long\"))\n",
        "df_all=df_all.withColumn(\"block_size\",df_all.block_size.cast(\"long\"))\n",
        "df_all=df_all.withColumn(\"searches\",df_all.searches.cast(\"int\"))\n",
        "\n",
        "df_all.printSchema()"
      ]
    },
    {
      "cell_type": "code",
      "execution_count": null,
      "metadata": {
        "colab": {
          "base_uri": "https://localhost:8080/"
        },
        "id": "6qrRAKU8PrIv",
        "outputId": "582ab73c-fe53-4dfd-a370-1eb80b60b2b7"
      },
      "outputs": [
        {
          "output_type": "stream",
          "name": "stdout",
          "text": [
            "+--------+--------+--------+--------+-----------+-----------+-------+--------+--------+--------+------------+------------+--------+--------+--------+--------+------------+------------+----------+-------------------+------------+--------------------+----------------+----------+--------+\n",
            "|    open|    high|     low|   close| Volume BTC| Volume USD| open_1|  high_1|   low_1| close_1|volume_BTC_1|volume_USD_1|  open_2|  high_2|   low_2| close_2|volume_BTC_2|volume_USD_2|NEXT_CLOSE|          timestamp|       value|             address|num_transactions|block_size|searches|\n",
            "+--------+--------+--------+--------+-----------+-----------+-------+--------+--------+--------+------------+------------+--------+--------+--------+--------+------------+------------+----------+-------------------+------------+--------------------+----------------+----------+--------+\n",
            "|38680.05|38840.36|38661.94|38742.11|21.67994572|839926.8419|38859.3|38863.47|38556.27|38700.69| 27.40677344| 1060661.043|39009.68|39061.84|38863.55|38883.69| 25.24957449| 981796.6271|  37730.26|2022-03-13 21:00:00|     1936678|bc1qr9h0vc55tdnev...|            2699|   1480505|      74|\n",
            "|38680.05|38840.36|38661.94|38742.11|21.67994572|839926.8419|38859.3|38863.47|38556.27|38700.69| 27.40677344| 1060661.043|39009.68|39061.84|38863.55|38883.69| 25.24957449| 981796.6271|  37730.26|2022-03-13 21:00:00|    12895224|bc1qa64s6ulpj66df...|            2699|   1480505|      74|\n",
            "|38680.05|38840.36|38661.94|38742.11|21.67994572|839926.8419|38859.3|38863.47|38556.27|38700.69| 27.40677344| 1060661.043|39009.68|39061.84|38863.55|38883.69| 25.24957449| 981796.6271|  37730.26|2022-03-13 21:00:00|217181650288|1Kr6QSydW9bFQG1mX...|            2699|   1480505|      74|\n",
            "|38680.05|38840.36|38661.94|38742.11|21.67994572|839926.8419|38859.3|38863.47|38556.27|38700.69| 27.40677344| 1060661.043|39009.68|39061.84|38863.55|38883.69| 25.24957449| 981796.6271|  37730.26|2022-03-13 21:00:00|   737390702|bc1q7cyrfmck2ffu2...|            2699|   1480505|      74|\n",
            "|38680.05|38840.36|38661.94|38742.11|21.67994572|839926.8419|38859.3|38863.47|38556.27|38700.69| 27.40677344| 1060661.043|39009.68|39061.84|38863.55|38883.69| 25.24957449| 981796.6271|  37730.26|2022-03-13 21:00:00|  1532071890|bc1q7cyrfmck2ffu2...|            2699|   1480505|      74|\n",
            "|38680.05|38840.36|38661.94|38742.11|21.67994572|839926.8419|38859.3|38863.47|38556.27|38700.69| 27.40677344| 1060661.043|39009.68|39061.84|38863.55|38883.69| 25.24957449| 981796.6271|  37730.26|2022-03-13 21:00:00|   460486766|bc1q7cyrfmck2ffu2...|            2699|   1480505|      74|\n",
            "|38680.05|38840.36|38661.94|38742.11|21.67994572|839926.8419|38859.3|38863.47|38556.27|38700.69| 27.40677344| 1060661.043|39009.68|39061.84|38863.55|38883.69| 25.24957449| 981796.6271|  37730.26|2022-03-13 21:00:00|  1538857465|bc1q7cyrfmck2ffu2...|            2699|   1480505|      74|\n",
            "|38680.05|38840.36|38661.94|38742.11|21.67994572|839926.8419|38859.3|38863.47|38556.27|38700.69| 27.40677344| 1060661.043|39009.68|39061.84|38863.55|38883.69| 25.24957449| 981796.6271|  37730.26|2022-03-13 21:00:00|  1546804647|bc1q7cyrfmck2ffu2...|            2699|   1480505|      74|\n",
            "|38680.05|38840.36|38661.94|38742.11|21.67994572|839926.8419|38859.3|38863.47|38556.27|38700.69| 27.40677344| 1060661.043|39009.68|39061.84|38863.55|38883.69| 25.24957449| 981796.6271|  37730.26|2022-03-13 21:00:00|     2264081|36dJknLeGGFuAjXVh...|            2699|   1480505|      74|\n",
            "|38680.05|38840.36|38661.94|38742.11|21.67994572|839926.8419|38859.3|38863.47|38556.27|38700.69| 27.40677344| 1060661.043|39009.68|39061.84|38863.55|38883.69| 25.24957449| 981796.6271|  37730.26|2022-03-13 21:00:00|      339610|3FdEC9NccfPfyESLB...|            2699|   1480505|      74|\n",
            "+--------+--------+--------+--------+-----------+-----------+-------+--------+--------+--------+------------+------------+--------+--------+--------+--------+------------+------------+----------+-------------------+------------+--------------------+----------------+----------+--------+\n",
            "only showing top 10 rows\n",
            "\n"
          ]
        }
      ],
      "source": [
        "df_all.show(10)"
      ]
    },
    {
      "cell_type": "markdown",
      "metadata": {
        "id": "PR5gO7s6QM06"
      },
      "source": [
        "# Linear regression"
      ]
    },
    {
      "cell_type": "markdown",
      "metadata": {
        "id": "5oDnqH7nZZSG"
      },
      "source": [
        "# pipeline"
      ]
    },
    {
      "cell_type": "code",
      "execution_count": null,
      "metadata": {
        "id": "1xbLL1jcZdrq"
      },
      "outputs": [],
      "source": [
        "from pyspark.ml.regression import LinearRegression\n",
        "from pyspark.ml.feature import VectorAssembler\n",
        "from pyspark.ml.feature import StandardScaler\n",
        "from pyspark.ml import Pipeline\n",
        "from pyspark.sql.functions import *\n",
        "import pyspark.sql.functions as f"
      ]
    },
    {
      "cell_type": "code",
      "source": [
        "from pyspark.sql.functions import col\n",
        "df_all = df_all.sort(df_all.timestamp.asc())\n",
        "df_all = df_all.withColumn('index', f.monotonically_increasing_id())\n",
        "df_all = df_all.sort('index')\n"
      ],
      "metadata": {
        "id": "E6fiFEdKv7WC"
      },
      "execution_count": null,
      "outputs": []
    },
    {
      "cell_type": "code",
      "source": [
        "df = df_all.where(col(\"index\").between(0,500000))\n"
      ],
      "metadata": {
        "id": "5RNu_bjnwS_s"
      },
      "execution_count": null,
      "outputs": []
    },
    {
      "cell_type": "code",
      "execution_count": null,
      "metadata": {
        "colab": {
          "base_uri": "https://localhost:8080/"
        },
        "id": "pbhrcxjfJwi4",
        "outputId": "ee992873-5ea5-41b2-e81a-ca6d22783db4"
      },
      "outputs": [
        {
          "output_type": "stream",
          "name": "stdout",
          "text": [
            "root\n",
            " |-- open: double (nullable = true)\n",
            " |-- high: double (nullable = true)\n",
            " |-- low: double (nullable = true)\n",
            " |-- close: double (nullable = true)\n",
            " |-- volume_BTC: double (nullable = true)\n",
            " |-- volume_USD: double (nullable = true)\n",
            " |-- open_1: double (nullable = true)\n",
            " |-- high_1: double (nullable = true)\n",
            " |-- low_1: double (nullable = true)\n",
            " |-- close_1: double (nullable = true)\n",
            " |-- volume_BTC_1: double (nullable = true)\n",
            " |-- volume_USD_1: double (nullable = true)\n",
            " |-- open_2: double (nullable = true)\n",
            " |-- high_2: double (nullable = true)\n",
            " |-- low_2: double (nullable = true)\n",
            " |-- close_2: double (nullable = true)\n",
            " |-- volume_BTC_2: double (nullable = true)\n",
            " |-- volume_USD_2: double (nullable = true)\n",
            " |-- NEXT_CLOSE: double (nullable = true)\n",
            " |-- timestamp: timestamp (nullable = true)\n",
            " |-- value: long (nullable = true)\n",
            " |-- address: string (nullable = true)\n",
            " |-- num_transactions: long (nullable = true)\n",
            " |-- block_size: long (nullable = true)\n",
            " |-- searches: integer (nullable = true)\n",
            " |-- index: long (nullable = false)\n",
            "\n"
          ]
        },
        {
          "output_type": "execute_result",
          "data": {
            "text/plain": [
              "pyspark.sql.dataframe.DataFrame"
            ]
          },
          "metadata": {},
          "execution_count": 58
        }
      ],
      "source": [
        "df.printSchema()\n",
        "type(df)"
      ]
    },
    {
      "cell_type": "code",
      "execution_count": null,
      "metadata": {
        "colab": {
          "base_uri": "https://localhost:8080/"
        },
        "id": "KrHuE3VDWM6S",
        "outputId": "cff0fdf8-18a9-4d76-8dc7-aea0a610ef90"
      },
      "outputs": [
        {
          "output_type": "stream",
          "name": "stdout",
          "text": [
            "['open', 'high', 'low', 'close', 'volume_BTC', 'volume_USD', 'open_1', 'high_1', 'low_1', 'close_1', 'volume_BTC_1', 'volume_USD_1', 'open_2', 'high_2', 'low_2', 'close_2', 'volume_BTC_2', 'volume_USD_2', 'NEXT_CLOSE', 'timestamp', 'value', 'address', 'num_transactions', 'block_size', 'searches', 'index']\n",
            "['open', 'high', 'low', 'close', 'volume_BTC', 'volume_USD', 'open_1', 'high_1', 'low_1', 'close_1', 'volume_BTC_1', 'volume_USD_1', 'open_2', 'high_2', 'low_2', 'close_2', 'volume_BTC_2', 'volume_USD_2', 'value', 'num_transactions', 'block_size', 'searches', 'address_oh']\n"
          ]
        }
      ],
      "source": [
        "# labels and features\n",
        "feature_cols = df.columns\n",
        "print(feature_cols)\n",
        "# Gain the column list of features\n",
        "non_feature_cols  = [\"NEXT_CLOSE\",\"timestamp\",\"address\",\"index\"]\n",
        "[feature_cols.remove(non_feature) for non_feature in non_feature_cols]\n",
        "feature_cols.append('address_oh')\n",
        "print(feature_cols)"
      ]
    },
    {
      "cell_type": "code",
      "execution_count": null,
      "metadata": {
        "id": "Sj1vITe_7LJk"
      },
      "outputs": [],
      "source": [
        "#import required libraries\n",
        "from pyspark.ml.feature import StringIndexer\n",
        "indexer = StringIndexer(inputCol=\"address\", outputCol=\"addrindex\")\n",
        "#Fits a model to the input dataset with optional parameters.\n",
        "df = indexer.fit(df).transform(df)\n"
      ]
    },
    {
      "cell_type": "code",
      "execution_count": null,
      "metadata": {
        "id": "hPoAcXAb8Gt2"
      },
      "outputs": [],
      "source": [
        "from pyspark.ml.feature import OneHotEncoder\n",
        "#onehotencoder to qualificationIndex\n",
        "oh = OneHotEncoder(inputCol=\"addrindex\", outputCol=\"address_oh\")\n",
        "df = oh.fit(df).transform(df)\n",
        "df = df.drop('addrindex','address')\n",
        "dfs = df.select(\"close\",\"searches\",\"num_transactions\",\"block_size\")"
      ]
    },
    {
      "cell_type": "code",
      "execution_count": null,
      "metadata": {
        "id": "X8xlfxSoi2cA"
      },
      "outputs": [],
      "source": [
        "import six\n",
        "\n",
        "output = 'close'\n",
        "for i in dfs.columns:\n",
        "    if not( isinstance(df.select(i).take(1)[0][0], six.string_types)):\n",
        "        print( \"Correlation to Price for \", i, df.stat.corr(output,i))"
      ]
    },
    {
      "cell_type": "code",
      "execution_count": null,
      "metadata": {
        "id": "hiqYnLRki2LJ",
        "colab": {
          "base_uri": "https://localhost:8080/"
        },
        "outputId": "a1345876-8cc2-4874-bf36-ec1ddb6ea8cf"
      },
      "outputs": [
        {
          "output_type": "stream",
          "name": "stdout",
          "text": [
            "root\n",
            " |-- open: double (nullable = true)\n",
            " |-- high: double (nullable = true)\n",
            " |-- low: double (nullable = true)\n",
            " |-- close: double (nullable = true)\n",
            " |-- volume_BTC: double (nullable = true)\n",
            " |-- volume_USD: double (nullable = true)\n",
            " |-- open_1: double (nullable = true)\n",
            " |-- high_1: double (nullable = true)\n",
            " |-- low_1: double (nullable = true)\n",
            " |-- close_1: double (nullable = true)\n",
            " |-- volume_BTC_1: double (nullable = true)\n",
            " |-- volume_USD_1: double (nullable = true)\n",
            " |-- open_2: double (nullable = true)\n",
            " |-- high_2: double (nullable = true)\n",
            " |-- low_2: double (nullable = true)\n",
            " |-- close_2: double (nullable = true)\n",
            " |-- volume_BTC_2: double (nullable = true)\n",
            " |-- volume_USD_2: double (nullable = true)\n",
            " |-- NEXT_CLOSE: double (nullable = true)\n",
            " |-- timestamp: timestamp (nullable = true)\n",
            " |-- value: long (nullable = true)\n",
            " |-- num_transactions: long (nullable = true)\n",
            " |-- block_size: long (nullable = true)\n",
            " |-- searches: integer (nullable = true)\n",
            " |-- index: long (nullable = false)\n",
            " |-- address_oh: vector (nullable = true)\n",
            "\n"
          ]
        }
      ],
      "source": [
        "# slice parts of df to test on \n",
        "df.printSchema()"
      ]
    },
    {
      "cell_type": "code",
      "execution_count": null,
      "metadata": {
        "id": "wb5RErVKD3WD"
      },
      "outputs": [],
      "source": [
        "#train_df,test_df= df.randomSplit([0.6, 0.4])\n",
        "\n",
        "df = df.sort(df.index.asc())\n",
        "train_df = df.where(col(\"index\").between(0,300000))\n",
        "test_df = df.where(col(\"index\").between(300000,500000))\n"
      ]
    },
    {
      "cell_type": "code",
      "source": [
        "train_df.sort(train_df.timestamp.asc()).show()"
      ],
      "metadata": {
        "id": "1Wgx97I7sJqQ"
      },
      "execution_count": null,
      "outputs": []
    },
    {
      "cell_type": "code",
      "source": [
        "test_df.sort(test_df.timestamp.asc()).show()"
      ],
      "metadata": {
        "id": "1OG--VJ5sv7M"
      },
      "execution_count": null,
      "outputs": []
    },
    {
      "cell_type": "code",
      "execution_count": null,
      "metadata": {
        "id": "fc4cn7gAWM3f"
      },
      "outputs": [],
      "source": [
        "vector_assembler = VectorAssembler(inputCols=feature_cols, outputCol=\"features\")\n",
        "lr = LinearRegression(featuresCol=\"features\",labelCol=\"NEXT_CLOSE\",maxIter=5, regParam=0.0, elasticNetParam=0.8)\n",
        "# Chain assembler and forest in a Pipeline\n",
        "pipeline = Pipeline(stages=[vector_assembler, lr])\n",
        "pipeline_model = pipeline.fit(train_df)\n",
        "\n",
        "# Make predictions\n",
        "predictions = pipeline_model.transform(test_df)"
      ]
    },
    {
      "cell_type": "code",
      "execution_count": null,
      "metadata": {
        "id": "eB9TnL6Qr4Rz",
        "colab": {
          "base_uri": "https://localhost:8080/"
        },
        "outputId": "f65e8118-ebe8-4cce-b1f3-3c8346464451"
      },
      "outputs": [
        {
          "output_type": "execute_result",
          "data": {
            "text/plain": [
              "0.6910438100721128"
            ]
          },
          "metadata": {},
          "execution_count": 41
        }
      ],
      "source": [
        "from pyspark.ml.evaluation import RegressionEvaluator\n",
        "\n",
        "rmse_evaluator = RegressionEvaluator(labelCol=\"NEXT_CLOSE\", predictionCol=\"prediction\", metricName='rmse')\n",
        "rmse = rmse_evaluator.evaluate(predictions)\n",
        "r2_evaluator = RegressionEvaluator(labelCol=\"NEXT_CLOSE\", predictionCol=\"prediction\", metricName='r2')\n",
        "r2 = r2_evaluator.evaluate(predictions)\n",
        "\n",
        "rmse\n",
        "r2"
      ]
    },
    {
      "cell_type": "code",
      "source": [
        "rmse"
      ],
      "metadata": {
        "colab": {
          "base_uri": "https://localhost:8080/"
        },
        "id": "jX3rt7Eq-HsO",
        "outputId": "51460add-e9dd-4fdf-e8aa-41227f207922"
      },
      "execution_count": null,
      "outputs": [
        {
          "output_type": "execute_result",
          "data": {
            "text/plain": [
              "94.60840963159531"
            ]
          },
          "metadata": {},
          "execution_count": 42
        }
      ]
    },
    {
      "cell_type": "code",
      "execution_count": null,
      "metadata": {
        "id": "dVaCKb-aF3G7"
      },
      "outputs": [],
      "source": [
        "pred = predictions.groupBy(\"timestamp\").mean(\"prediction\").sort(predictions.timestamp.asc()).toPandas()\n",
        "actual = test_df.groupBy(\"timestamp\").mean(\"close\").sort(test_df.timestamp.asc()).toPandas()"
      ]
    },
    {
      "cell_type": "code",
      "execution_count": null,
      "metadata": {
        "id": "8C2KklS6HUIa"
      },
      "outputs": [],
      "source": [
        "ts = test_df.select(\"timestamp\").distinct()\n",
        "ts = sorted(ts)"
      ]
    },
    {
      "cell_type": "code",
      "execution_count": null,
      "metadata": {
        "colab": {
          "base_uri": "https://localhost:8080/",
          "height": 240
        },
        "id": "MjFeJSzOF25b",
        "outputId": "3591e15b-4f4d-4f78-c113-10ee286b31fd"
      },
      "outputs": [
        {
          "output_type": "execute_result",
          "data": {
            "text/plain": [
              "<matplotlib.axes._subplots.AxesSubplot at 0x7fd15bead390>"
            ]
          },
          "metadata": {},
          "execution_count": 39
        },
        {
          "output_type": "display_data",
          "data": {
            "text/plain": [
              "<Figure size 720x216 with 1 Axes>"
            ],
            "image/png": "[encoded data removed]"
          },
          "metadata": {
            "needs_background": "light"
          }
        }
      ],
      "source": [
        "import matplotlib.pyplot as plt\n",
        "import matplotlib.pyplot as plt\n",
        "plt.rcParams[\"figure.figsize\"] = (10,3)\n",
        "\n",
        "ax = pred.plot.line(x = \"timestamp\", y=\"avg(prediction)\",label = \"predicted close\")\n",
        "actual.plot.line(x = \"timestamp\", y=\"avg(close)\",label = \"actual close\",ax=ax)"
      ]
    },
    {
      "cell_type": "code",
      "execution_count": null,
      "metadata": {
        "id": "xIRM62kG-KtW"
      },
      "outputs": [],
      "source": []
    },
    {
      "cell_type": "markdown",
      "metadata": {
        "id": "oi2_0VxCiTYE"
      },
      "source": [
        "# Analysis graphs"
      ]
    },
    {
      "cell_type": "code",
      "execution_count": null,
      "metadata": {
        "colab": {
          "base_uri": "https://localhost:8080/",
          "height": 302
        },
        "id": "wL_pJrk5dWEc",
        "outputId": "03b60f38-d806-4ef5-a6c3-29f6d89693b8"
      },
      "outputs": [
        {
          "data": {
            "text/plain": [
              "<matplotlib.axes._subplots.AxesSubplot at 0x7fd99ab15d10>"
            ]
          },
          "execution_count": 68,
          "metadata": {},
          "output_type": "execute_result"
        },
        {
          "data": {
            "image/png": "[encoded data removed]",
            "text/plain": [
              "<Figure size 432x288 with 1 Axes>"
            ]
          },
          "metadata": {},
          "output_type": "display_data"
        }
      ],
      "source": [
        "pdf = (\n",
        "    df_trends.orderBy(\"date\").toPandas()\n",
        ")\n",
        "#j = (\n",
        "#    dfj.orderBy(\"timestamp\").toPandas()\n",
        "#)\n",
        "pdf.plot.line(x=\"date\", y=\"searches\")\n",
        "#j.plot.line(x=\"timestamp\",y=\"Volume USD\")"
      ]
    },
    {
      "cell_type": "code",
      "execution_count": null,
      "metadata": {
        "colab": {
          "base_uri": "https://localhost:8080/",
          "height": 126
        },
        "id": "Q-0dkUcOre15",
        "outputId": "9adb5fd8-3543-4ae9-a18d-eee1e4409316"
      },
      "outputs": [
        {
          "data": {
            "image/png": "[encoded data removed]",
            "text/plain": [
              "<Figure size 1440x216 with 1 Axes>"
            ]
          },
          "metadata": {},
          "output_type": "display_data"
        }
      ],
      "source": [
        "import seaborn as sns\n",
        "import matplotlib.pyplot as plt\n",
        "plt.rcParams[\"figure.figsize\"] = (20,3)\n",
        "\n",
        "pdf = (\n",
        "    ts.orderBy(\"date\").toPandas()\n",
        ")\n",
        "\n",
        "#pdf.plot()\n",
        "plt.plot(pdf[\"date\"],pdf[\"searches_norm\"])\n",
        "plt.plot(pdf[\"date\"], pdf[\"close_norm\"])\n",
        "plt.show()\n"
      ]
    },
    {
      "cell_type": "code",
      "execution_count": null,
      "metadata": {
        "id": "48ogYHWCquIo"
      },
      "outputs": [],
      "source": []
    },
    {
      "cell_type": "code",
      "execution_count": null,
      "metadata": {
        "id": "rzobDJjgZGiK"
      },
      "outputs": [],
      "source": []
    },
    {
      "cell_type": "markdown",
      "source": [
        "other helper functions"
      ],
      "metadata": {
        "id": "Aq31VpK9gPH7"
      }
    },
    {
      "cell_type": "code",
      "execution_count": null,
      "metadata": {
        "id": "zTa6OWBMkOIR"
      },
      "outputs": [],
      "source": [
        "def standardize_train_test_data(train_df, test_df,columns):\n",
        "    '''\n",
        "    Add normalised columns to the input dataframe.\n",
        "    formula = [(X - mean) / std_dev]\n",
        "    Inputs : training dataframe, list of column name strings to be normalised\n",
        "    Returns : dataframe with new normalised columns, averages and std deviation dataframes \n",
        "    '''\n",
        "    # Find the Mean and the Standard Deviation for each column\n",
        "    aggExpr = []\n",
        "    aggStd = []\n",
        "    for column in columns:\n",
        "        aggExpr.append(mean(train_df[column]).alias(column))\n",
        "        aggStd.append(stddev(train_df[column]).alias(column + '_stddev'))\n",
        "    \n",
        "    averages = train_df.agg(*aggExpr).collect()[0]\n",
        "    std_devs = train_df.agg(*aggStd).collect()[0]\n",
        "    \n",
        "    # Standardise each dataframe, column by column\n",
        "    for column in columns:            \n",
        "        # Standardise the TRAINING data\n",
        "        train_df = train_df.withColumn(column + '_norm', ((train_df[column] - averages[column])/std_devs[column + '_stddev']))       \n",
        "    \n",
        "        # Standardise the TEST data (using the training mean and std_dev)     \n",
        "        test_df = test_df.withColumn(column + '_norm', ((test_df[column] - averages[column]) / std_devs[column + '_stddev']))  \n",
        "    return train_df, test_df, averages, std_devs"
      ]
    },
    {
      "cell_type": "code",
      "execution_count": null,
      "metadata": {
        "colab": {
          "base_uri": "https://localhost:8080/"
        },
        "id": "kytcWgFMkOFn",
        "outputId": "c0186180-ad6a-4ae1-d169-961ba88830d1"
      },
      "outputs": [
        {
          "name": "stdout",
          "output_type": "stream",
          "text": [
            "+--------+--------+--------+--------+-----------+-----------+-------------------+-----+--------------------+----------------+----------+--------+-------------------+-----------------+\n",
            "|    open|    high|     low|   close| Volume BTC| Volume USD|          timestamp|value|             address|num_transactions|block_size|searches|         close_norm|    searches_norm|\n",
            "+--------+--------+--------+--------+-----------+-----------+-------------------+-----+--------------------+----------------+----------+--------+-------------------+-----------------+\n",
            "|37731.83|37900.67|37595.62|37790.54|58.24720609|2201193.372|2022-03-13 23:00:00| 1000|3Bx5M5TBE1SzneiyE...|            1813|   1212423|      81|-1.9260804708918773|0.537949926104629|\n",
            "|37731.83|37900.67|37595.62|37790.54|58.24720609|2201193.372|2022-03-13 23:00:00| 1000|3CXG4C4gSuGUaMi4U...|            1728|   1166576|      81|-1.9260804708918773|0.537949926104629|\n",
            "|37731.83|37900.67|37595.62|37790.54|58.24720609|2201193.372|2022-03-13 23:00:00| 1000|3MND1vHRyW6k4tDjy...|            1813|   1212423|      81|-1.9260804708918773|0.537949926104629|\n",
            "+--------+--------+--------+--------+-----------+-----------+-------------------+-----+--------------------+----------------+----------+--------+-------------------+-----------------+\n",
            "only showing top 3 rows\n",
            "\n"
          ]
        }
      ],
      "source": [
        "train_scaled, test_scaled, av,std = standardize_train_test_data(train_df,test_df,[\"close\",\"searches\"])\n",
        "train_scaled.show(3)"
      ]
    },
    {
      "cell_type": "code",
      "execution_count": null,
      "metadata": {
        "id": "8BvvwG-9afvw"
      },
      "outputs": [],
      "source": [
        "for i in range(1,8): # for 7 days\n",
        "    df1.withColumn(\"Open_b_\"+str(i), df.shift(i)[\"open\"])\n",
        "    df1.withColumn(\"High_b_\"+str(i), df['High'].shift(i))\n",
        "    df1.withColumn(\"Low_b_\"+str(i), df['Low'].shift(i))\n",
        "    df1.withColumn(\"Close_b_\"+str(i), df['Close'].shift(i))\n",
        "    df1.withColumn(\"Volume_BTC_b_\"+str(i), df['Volume BTC'].shift(i))\n",
        "    df1.withColumn(\"Volume_USD_b_\"+str(i), df['Volume USD'].shift(i))\n",
        "    df1.withColumn(\"value_b\"+str(i), df['value'].shift(i))\n",
        "    df1.withColumn(\"address_b_\"+str(i), df['address'].shift(i))\n",
        "    df1.withColumn(\"n_transactions_b_\"+str(i), df['num_transactions'].shift(i))\n",
        "    df1.withColumn(\"block_size_b_\"+str(i), df['block_size'].shift(i))\n",
        "    df1.withColumn(\"searches_b_\"+str(i), df['searches'].shift(i))\n",
        "\n",
        "df1 = df1.dropna() # drop the first rows. They don't have previous information \n",
        "df1.show()"
      ]
    },
    {
      "cell_type": "code",
      "execution_count": null,
      "metadata": {
        "id": "uu1fl8THaftb"
      },
      "outputs": [],
      "source": [
        "historical_df[\"NEXT_CLOSE\"] = historical_df['Close'].shift(-1) # Add next data as a label for current data\n",
        "historical_df = historical_df.dropna() # drop the last row. It doesn't have next information \n",
        "print(\"after adding next CLOSE Label, new shape:\", historical_df.shape)\n",
        "historical_df.tail(3)"
      ]
    },
    {
      "cell_type": "code",
      "execution_count": null,
      "metadata": {
        "id": "aOIOOyugvcAJ"
      },
      "outputs": [],
      "source": []
    }
  ],
  "metadata": {
    "accelerator": "GPU",
    "colab": {
      "provenance": []
    },
    "kernelspec": {
      "display_name": "Python 3",
      "name": "python3"
    },
    "language_info": {
      "name": "python"
    }
  },
  "nbformat": 4,
  "nbformat_minor": 0
}